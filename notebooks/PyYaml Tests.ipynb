{
 "cells": [
  {
   "cell_type": "code",
   "execution_count": 12,
   "id": "unlikely-guard",
   "metadata": {},
   "outputs": [
    {
     "data": {
      "text/plain": [
       "'/scratch/jobs/hpc'"
      ]
     },
     "execution_count": 12,
     "metadata": {},
     "output_type": "execute_result"
    }
   ],
   "source": [
    "# !export PFSDIR=\"/home/joseph\"\n",
    "import os\n",
    "os.environ[\"PFSDIR\"] = \"/scratch/jobs/hpc\"\n",
    "os.getenv(\"PFSDIR\")"
   ]
  },
  {
   "cell_type": "code",
   "execution_count": 1,
   "id": "challenging-pharmacology",
   "metadata": {},
   "outputs": [
    {
     "name": "stdout",
     "output_type": "stream",
     "text": [
      "<envyaml.envyaml.EnvYAML object at 0x7fc9e81d3190>\n"
     ]
    }
   ],
   "source": [
    "from envyaml import EnvYAML\n",
    "yml_path = \"/home/joseph/Coding/ml_projects/g2net_ml_dl/python/scripts/infer.yml\"\n",
    "env = EnvYAML(yml_path)\n",
    "print(env)"
   ]
  },
  {
   "cell_type": "code",
   "execution_count": 2,
   "id": "greater-crystal",
   "metadata": {
    "scrolled": true
   },
   "outputs": [
    {
     "name": "stdout",
     "output_type": "stream",
     "text": [
      "{'SHELL': '/bin/bash', 'SESSION_MANAGER': 'local/joseph-ideapad-330:@/tmp/.ICE-unix/2042,unix/joseph-ideapad-330:/tmp/.ICE-unix/2042', 'QT_ACCESSIBILITY': '1', 'COLORTERM': 'truecolor', 'XDG_CONFIG_DIRS': '/etc/xdg/xdg-xubuntu:/etc/xdg:/etc/xdg', 'XDG_SESSION_PATH': '/org/freedesktop/DisplayManager/Session0', 'NVM_INC': '/home/joseph/.nvm/versions/node/v16.4.2/include/node', 'XDG_MENU_PREFIX': 'xfce-', 'TERM_PROGRAM_VERSION': '1.62.3', 'GVM_VERSION': '1.0.22', 'CONDA_EXE': '/home/joseph/miniconda3/bin/conda', '_CE_M': '', 'CLUTTER_BACKEND': 'x11', 'PKG_CONFIG_PATH': '/home/joseph/.gvm/pkgsets/go1.17.2/global/overlay/lib/pkgconfig:/home/joseph/.gvm/pkgsets/go1.17.2/global/overlay/lib/pkgconfig:', 'LANGUAGE': 'en_US', 'MANDATORY_PATH': '/usr/share/gconf/xubuntu.mandatory.path', 'JAVA_HOME': '/home/joseph/.sdkman/candidates/java/current', 'GVM_PATH_BACKUP': '/home/joseph/.gvm/bin:/home/joseph/Android/Sdk/platform-tools:/home/joseph/.local/bin:/home/joseph/.gvm/pkgsets/go1.17.2/global/bin:/home/joseph/.gvm/gos/go1.17.2/bin:/home/joseph/.gvm/pkgsets/go1.17.2/global/overlay/bin:/home/joseph/.gvm/bin:/home/joseph/.gvm/bin:/home/joseph/Android/Sdk/platform-tools:/home/joseph/.sdkman/candidates/java/current/bin:/home/joseph/.nvm/versions/node/v16.4.2/bin:/home/joseph/miniconda3/bin:/home/joseph/miniconda3/condabin:/home/joseph/.local/bin:/usr/local/sbin:/usr/local/bin:/usr/sbin:/usr/bin:/sbin:/bin:/usr/games:/usr/local/games:/snap/bin:/usr/local/go/bin:/usr/local/go/bin', 'SSH_AUTH_SOCK': '/tmp/ssh-r3PTPye2hiWG/agent.2042', 'BREAKPAD_DUMP_LOCATION': '/home/joseph/.config/Code/exthost Crash Reports', 'SDKMAN_CANDIDATES_DIR': '/home/joseph/.sdkman/candidates', 'DESKTOP_SESSION': 'xubuntu', 'SSH_AGENT_PID': '2129', 'XDG_SEAT': 'seat0', 'PWD': '/home/joseph/Coding/ml_projects/g2net_ml_dl', 'XDG_SESSION_DESKTOP': 'xubuntu', 'LOGNAME': 'joseph', 'QT_QPA_PLATFORMTHEME': 'gtk2', 'XDG_SESSION_TYPE': 'x11', 'CONDA_PREFIX': '/home/joseph/miniconda3/envs/ml', 'PANEL_GDK_CORE_DEVICE_EVENTS': '0', 'XAUTHORITY': '/home/joseph/.Xauthority', 'VSCODE_GIT_ASKPASS_NODE': '/usr/share/code/code', 'XDG_GREETER_DATA_DIR': '/var/lib/lightdm-data/joseph', 'GDM_LANG': 'en_US', 'GVM_OVERLAY_PREFIX': '/home/joseph/.gvm/pkgsets/go1.17.2/global/overlay', 'HOME': '/home/joseph', 'LANG': 'en_US.UTF-8', 'DYLD_LIBRARY_PATH': '/home/joseph/.gvm/pkgsets/go1.17.2/global/overlay/lib:/home/joseph/.gvm/pkgsets/go1.17.2/global/overlay/lib:', 'LS_COLORS': 'rs=0:di=01;34:ln=01;36:mh=00:pi=40;33:so=01;35:do=01;35:bd=40;33;01:cd=40;33;01:or=40;31;01:mi=00:su=37;41:sg=30;43:ca=30;41:tw=30;42:ow=34;42:st=37;44:ex=01;32:*.tar=01;31:*.tgz=01;31:*.arc=01;31:*.arj=01;31:*.taz=01;31:*.lha=01;31:*.lz4=01;31:*.lzh=01;31:*.lzma=01;31:*.tlz=01;31:*.txz=01;31:*.tzo=01;31:*.t7z=01;31:*.zip=01;31:*.z=01;31:*.dz=01;31:*.gz=01;31:*.lrz=01;31:*.lz=01;31:*.lzo=01;31:*.xz=01;31:*.zst=01;31:*.tzst=01;31:*.bz2=01;31:*.bz=01;31:*.tbz=01;31:*.tbz2=01;31:*.tz=01;31:*.deb=01;31:*.rpm=01;31:*.jar=01;31:*.war=01;31:*.ear=01;31:*.sar=01;31:*.rar=01;31:*.alz=01;31:*.ace=01;31:*.zoo=01;31:*.cpio=01;31:*.7z=01;31:*.rz=01;31:*.cab=01;31:*.wim=01;31:*.swm=01;31:*.dwm=01;31:*.esd=01;31:*.jpg=01;35:*.jpeg=01;35:*.mjpg=01;35:*.mjpeg=01;35:*.gif=01;35:*.bmp=01;35:*.pbm=01;35:*.pgm=01;35:*.ppm=01;35:*.tga=01;35:*.xbm=01;35:*.xpm=01;35:*.tif=01;35:*.tiff=01;35:*.png=01;35:*.svg=01;35:*.svgz=01;35:*.mng=01;35:*.pcx=01;35:*.mov=01;35:*.mpg=01;35:*.mpeg=01;35:*.m2v=01;35:*.mkv=01;35:*.webm=01;35:*.ogm=01;35:*.mp4=01;35:*.m4v=01;35:*.mp4v=01;35:*.vob=01;35:*.qt=01;35:*.nuv=01;35:*.wmv=01;35:*.asf=01;35:*.rm=01;35:*.rmvb=01;35:*.flc=01;35:*.avi=01;35:*.fli=01;35:*.flv=01;35:*.gl=01;35:*.dl=01;35:*.xcf=01;35:*.xwd=01;35:*.yuv=01;35:*.cgm=01;35:*.emf=01;35:*.ogv=01;35:*.ogx=01;35:*.aac=00;36:*.au=00;36:*.flac=00;36:*.m4a=00;36:*.mid=00;36:*.midi=00;36:*.mka=00;36:*.mp3=00;36:*.mpc=00;36:*.ogg=00;36:*.ra=00;36:*.wav=00;36:*.oga=00;36:*.opus=00;36:*.spx=00;36:*.xspf=00;36:', 'XDG_CURRENT_DESKTOP': 'XFCE', 'gvm_pkgset_name': 'global', 'SDKMAN_VERSION': '5.12.4', 'CONDA_PROMPT_MODIFIER': '(ml) ', 'GIT_ASKPASS': '/usr/share/code/resources/app/extensions/git/dist/askpass.sh', 'XDG_SEAT_PATH': '/org/freedesktop/DisplayManager/Seat0', 'GVM_ROOT': '/home/joseph/.gvm', 'GOROOT': '/home/joseph/.gvm/gos/go1.17.2', 'CHROME_DESKTOP': 'code-url-handler.desktop', 'NVM_DIR': '/home/joseph/.nvm', 'VSCODE_GIT_ASKPASS_EXTRA_ARGS': '--ms-enable-electron-run-as-node', 'LESSCLOSE': '/usr/bin/lesspipe %s %s', 'XDG_SESSION_CLASS': 'user', 'TERM': 'xterm-color', '_CE_CONDA': '', 'GTK_OVERLAY_SCROLLING': '0', 'DEFAULTS_PATH': '/usr/share/gconf/xubuntu.default.path', 'LESSOPEN': '| /usr/bin/lesspipe %s', 'LIBVIRT_DEFAULT_URI': 'qemu:///system', 'USER': 'joseph', 'VSCODE_GIT_IPC_HANDLE': '/run/user/1000/vscode-git-55f72492b8.sock', 'CONDA_SHLVL': '2', 'SDKMAN_DIR': '/home/joseph/.sdkman', 'DISPLAY': ':0.0', 'SHLVL': '1', 'NVM_CD_FLAGS': '', 'XDG_VTNR': '7', 'SDKMAN_CANDIDATES_API': 'https://api.sdkman.io/2', 'XDG_SESSION_ID': 'c2', 'CONDA_PYTHON_EXE': '/home/joseph/miniconda3/bin/python', 'LD_LIBRARY_PATH': '/home/joseph/.gvm/pkgsets/go1.17.2/global/overlay/lib:/home/joseph/.gvm/pkgsets/go1.17.2/global/overlay/lib:', 'XDG_RUNTIME_DIR': '/run/user/1000', 'CONDA_DEFAULT_ENV': 'ml', 'VSCODE_GIT_ASKPASS_MAIN': '/usr/share/code/resources/app/extensions/git/dist/askpass-main.js', 'XDG_DATA_DIRS': '/usr/share/xubuntu:/usr/share/xfce4:/home/joseph/.local/share/flatpak/exports/share:/var/lib/flatpak/exports/share:/usr/local/share:/usr/share:/var/lib/snapd/desktop:/usr/share', 'GDK_BACKEND': 'x11', 'PATH': '/home/joseph/.gvm/pkgsets/go1.17.2/global/bin:/home/joseph/.gvm/gos/go1.17.2/bin:/home/joseph/.gvm/pkgsets/go1.17.2/global/overlay/bin:/home/joseph/.gvm/bin:/home/joseph/.gvm/bin:/home/joseph/Android/Sdk/platform-tools:/home/joseph/.local/bin:/home/joseph/.gvm/pkgsets/go1.17.2/global/bin:/home/joseph/.gvm/gos/go1.17.2/bin:/home/joseph/.gvm/pkgsets/go1.17.2/global/overlay/bin:/home/joseph/.gvm/bin:/home/joseph/.gvm/bin:/home/joseph/Android/Sdk/platform-tools:/home/joseph/.sdkman/candidates/java/current/bin:/home/joseph/.nvm/versions/node/v16.4.2/bin:/home/joseph/miniconda3/envs/ml/bin:/home/joseph/miniconda3/condabin:/home/joseph/.local/bin:/usr/local/sbin:/usr/local/bin:/usr/sbin:/usr/bin:/sbin:/bin:/usr/games:/usr/local/games:/snap/bin:/usr/local/go/bin:/usr/local/go/bin', 'GDMSESSION': 'xubuntu', 'ORIGINAL_XDG_CURRENT_DESKTOP': 'XFCE', 'DBUS_SESSION_BUS_ADDRESS': 'unix:path=/run/user/1000/bus', 'SDKMAN_PLATFORM': 'linuxx64', 'NVM_BIN': '/home/joseph/.nvm/versions/node/v16.4.2/bin', 'gvm_go_name': 'go1.17.2', 'CONDA_PREFIX_1': '/home/joseph/miniconda3', 'GOPATH': '/home/joseph/.gvm/pkgsets/go1.17.2/global', 'TERM_PROGRAM': 'vscode', '_': '/home/joseph/miniconda3/envs/ml/bin/jupyter', 'JPY_PARENT_PID': '8087', 'CLICOLOR': '1', 'PAGER': 'cat', 'GIT_PAGER': 'cat', 'MPLBACKEND': 'module://ipykernel.pylab.backend_inline', 'infer_config': {'dset_dir': '/home/joseph/final_project/data', 'threshold': 0.5, 'idx_start': 30000, 'idx_end': 37168, 'batch_size': 512, 'num_workers': 8, 'base_model_paths': ['/home/joseph/final_project/base_model_paths/fold0.pt', '/home/joseph/final_project/base_model_paths/fold1.pt', '/home/joseph/final_project/base_model_paths/fold2.pt', '/home/joseph/final_project/base_model_paths/fold3.pt', '/home/joseph/final_project/base_model_paths/fold4.pt'], 'filter_model_paths': ['/home/joseph/final_project/filter_model_paths/logs_0/best.pth', '/home/joseph/final_project/filter_model_paths/logs_1/best.pth', '/home/joseph/final_project/filter_model_paths/logs_2/best.pth', '/home/joseph/final_project/filter_model_paths/logs_3/best.pth', '/home/joseph/final_project/filter_model_paths/logs_4/best.pth']}, 'infer_config.dset_dir': '/home/joseph/final_project/data', 'infer_config.threshold': 0.5, 'infer_config.idx_start': 30000, 'infer_config.idx_end': 37168, 'infer_config.batch_size': 512, 'infer_config.num_workers': 8, 'infer_config.base_model_paths': ['/home/joseph/final_project/base_model_paths/fold0.pt', '/home/joseph/final_project/base_model_paths/fold1.pt', '/home/joseph/final_project/base_model_paths/fold2.pt', '/home/joseph/final_project/base_model_paths/fold3.pt', '/home/joseph/final_project/base_model_paths/fold4.pt'], 'infer_config.base_model_paths.0': '/home/joseph/final_project/base_model_paths/fold0.pt', 'infer_config.base_model_paths.1': '/home/joseph/final_project/base_model_paths/fold1.pt', 'infer_config.base_model_paths.2': '/home/joseph/final_project/base_model_paths/fold2.pt', 'infer_config.base_model_paths.3': '/home/joseph/final_project/base_model_paths/fold3.pt', 'infer_config.base_model_paths.4': '/home/joseph/final_project/base_model_paths/fold4.pt', 'infer_config.filter_model_paths': ['/home/joseph/final_project/filter_model_paths/logs_0/best.pth', '/home/joseph/final_project/filter_model_paths/logs_1/best.pth', '/home/joseph/final_project/filter_model_paths/logs_2/best.pth', '/home/joseph/final_project/filter_model_paths/logs_3/best.pth', '/home/joseph/final_project/filter_model_paths/logs_4/best.pth'], 'infer_config.filter_model_paths.0': '/home/joseph/final_project/filter_model_paths/logs_0/best.pth', 'infer_config.filter_model_paths.1': '/home/joseph/final_project/filter_model_paths/logs_1/best.pth', 'infer_config.filter_model_paths.2': '/home/joseph/final_project/filter_model_paths/logs_2/best.pth', 'infer_config.filter_model_paths.3': '/home/joseph/final_project/filter_model_paths/logs_3/best.pth', 'infer_config.filter_model_paths.4': '/home/joseph/final_project/filter_model_paths/logs_4/best.pth'}\n"
     ]
    }
   ],
   "source": [
    "cfg = env.export()\n",
    "print(cfg)"
   ]
  },
  {
   "cell_type": "code",
   "execution_count": 4,
   "id": "underlying-quebec",
   "metadata": {
    "scrolled": true
   },
   "outputs": [
    {
     "data": {
      "text/plain": [
       "['/home/joseph/final_project/filter_model_paths/logs_0/best.pth',\n",
       " '/home/joseph/final_project/filter_model_paths/logs_1/best.pth',\n",
       " '/home/joseph/final_project/filter_model_paths/logs_2/best.pth',\n",
       " '/home/joseph/final_project/filter_model_paths/logs_3/best.pth',\n",
       " '/home/joseph/final_project/filter_model_paths/logs_4/best.pth']"
      ]
     },
     "execution_count": 4,
     "metadata": {},
     "output_type": "execute_result"
    }
   ],
   "source": [
    "cfg[\"infer_config\"][\"filter_model_paths\"]"
   ]
  },
  {
   "cell_type": "code",
   "execution_count": 7,
   "id": "signed-manchester",
   "metadata": {
    "scrolled": true
   },
   "outputs": [
    {
     "data": {
      "text/plain": [
       "dict_keys(['run_key', 'global_epoch_step', 'global_batch_step', 'global_sample_step', 'stage_key', 'stage_epoch_step', 'stage_batch_step', 'stage_sample_step', 'epoch_metrics', 'loader_key', 'loader_batch_step', 'loader_sample_step', 'checkpointer_loader_key', 'checkpointer_metric_key', 'checkpointer_minimize', 'model_state_dict'])"
      ]
     },
     "execution_count": 7,
     "metadata": {},
     "output_type": "execute_result"
    }
   ],
   "source": [
    "import torch\n",
    "actual_filter_path = \"/home/joseph/Coding/ml_projects/g2net_ml_dl/weights/filter/logs_0/best.pth\"\n",
    "states = torch.load(actual_filter_path, map_location=torch.device('cpu'))\n",
    "states.keys()"
   ]
  },
  {
   "cell_type": "code",
   "execution_count": 35,
   "id": "bulgarian-irish",
   "metadata": {},
   "outputs": [
    {
     "name": "stdout",
     "output_type": "stream",
     "text": [
      "catalyst\n"
     ]
    }
   ],
   "source": [
    "if \"model\" in states.keys():\n",
    "    print(\"good\")\n",
    "elif \"model_state_dict\" in states.keys():\n",
    "    print('catalyst')"
   ]
  },
  {
   "cell_type": "code",
   "execution_count": 9,
   "id": "funny-single",
   "metadata": {},
   "outputs": [
    {
     "data": {
      "text/plain": [
       "odict_keys(['backbone.kernels', 'backbone.channel_combinations_0', 'backbone.channel_combinations_1', 'backbone.channel_combinations_2', 'backbone.channel_combinations_3', 'backbone.channel_combinations_4', 'backbone.channel_combinations_5', 'backbone.channel_combinations_6', 'backbone.channel_combinations_7', 'backbone.channel_combinations_8', 'backbone.channel_combinations_9', 'backbone.channel_combinations_10', 'backbone.channel_combinations_11', 'backbone.channel_combinations_12', 'backbone.channel_combinations_13', 'backbone.channel_combinations_14', 'backbone.channel_combinations_15', 'backbone.channel_combinations_16', 'backbone.channel_combinations_17', 'backbone.channel_combinations_18', 'backbone.channel_combinations_19', 'backbone.channel_combinations_20', 'backbone.channel_combinations_21', 'backbone.channel_combinations_22', 'backbone.channel_combinations_23', 'backbone.channel_combinations_24', 'backbone.channel_combinations_25', 'backbone.channel_combinations_26', 'backbone.channel_combinations_27', 'backbone.biases_0', 'backbone.biases_1', 'backbone.biases_2', 'backbone.biases_3', 'backbone.biases_4', 'backbone.biases_5', 'backbone.biases_6', 'backbone.biases_7', 'backbone.biases_8', 'backbone.biases_9', 'backbone.biases_10', 'backbone.biases_11', 'backbone.biases_12', 'backbone.biases_13', 'backbone.biases_14', 'backbone.biases_15', 'backbone.biases_16', 'backbone.biases_17', 'backbone.biases_18', 'backbone.biases_19', 'backbone.biases_20', 'backbone.biases_21', 'backbone.biases_22', 'backbone.biases_23', 'backbone.biases_24', 'backbone.biases_25', 'backbone.biases_26', 'backbone.biases_27', 'backbone.prefit', 'head.1.weight', 'head.1.bias', 'head.1.running_mean', 'head.1.running_var', 'head.1.num_batches_tracked', 'head.2.weight', 'head.2.bias'])"
      ]
     },
     "execution_count": 9,
     "metadata": {},
     "output_type": "execute_result"
    }
   ],
   "source": [
    "states[\"model_state_dict\"].keys()"
   ]
  },
  {
   "cell_type": "code",
   "execution_count": 13,
   "id": "excited-cliff",
   "metadata": {},
   "outputs": [
    {
     "name": "stdout",
     "output_type": "stream",
     "text": [
      "Tracking  ['fold', 'base_auc', 'base_time', 'mr_auc', 'mr_time', 'both_auc', 'both_time']\n"
     ]
    },
    {
     "ename": "TypeError",
     "evalue": "__init__() got an unexpected keyword argument 'ignore_index'",
     "output_type": "error",
     "traceback": [
      "\u001b[0;31m---------------------------------------------------------------------------\u001b[0m",
      "\u001b[0;31mTypeError\u001b[0m                                 Traceback (most recent call last)",
      "\u001b[0;32m<ipython-input-13-4fb6894e13da>\u001b[0m in \u001b[0;36m<module>\u001b[0;34m\u001b[0m\n\u001b[1;32m      6\u001b[0m \u001b[0mprint\u001b[0m\u001b[0;34m(\u001b[0m\u001b[0;34m\"Tracking \"\u001b[0m\u001b[0;34m,\u001b[0m \u001b[0mcols\u001b[0m\u001b[0;34m)\u001b[0m\u001b[0;34m\u001b[0m\u001b[0;34m\u001b[0m\u001b[0m\n\u001b[1;32m      7\u001b[0m \u001b[0;31m# To get averages, do self.metrics.mean()\u001b[0m\u001b[0;34m\u001b[0m\u001b[0;34m\u001b[0m\u001b[0;34m\u001b[0m\u001b[0m\n\u001b[0;32m----> 8\u001b[0;31m \u001b[0mmetrics\u001b[0m \u001b[0;34m=\u001b[0m \u001b[0mpd\u001b[0m\u001b[0;34m.\u001b[0m\u001b[0mDataFrame\u001b[0m\u001b[0;34m(\u001b[0m\u001b[0mcolumns\u001b[0m\u001b[0;34m=\u001b[0m\u001b[0mcols\u001b[0m\u001b[0;34m,\u001b[0m \u001b[0mignore_index\u001b[0m\u001b[0;34m=\u001b[0m\u001b[0;32mTrue\u001b[0m\u001b[0;34m)\u001b[0m\u001b[0;34m\u001b[0m\u001b[0;34m\u001b[0m\u001b[0m\n\u001b[0m",
      "\u001b[0;31mTypeError\u001b[0m: __init__() got an unexpected keyword argument 'ignore_index'"
     ]
    }
   ],
   "source": [
    "import pandas as pd\n",
    "cols = [\n",
    "    \"fold\", \"base_auc\", \"base_time\", \"mr_auc\", \"mr_time\", \"both_auc\",\n",
    "    \"both_time\"\n",
    "]\n",
    "print(\"Tracking \", cols)\n",
    "# To get averages, do self.metrics.mean()\n",
    "metrics = pd.DataFrame(columns=cols)"
   ]
  },
  {
   "cell_type": "code",
   "execution_count": 25,
   "id": "breathing-colonial",
   "metadata": {},
   "outputs": [
    {
     "data": {
      "text/html": [
       "<div>\n",
       "<style scoped>\n",
       "    .dataframe tbody tr th:only-of-type {\n",
       "        vertical-align: middle;\n",
       "    }\n",
       "\n",
       "    .dataframe tbody tr th {\n",
       "        vertical-align: top;\n",
       "    }\n",
       "\n",
       "    .dataframe thead th {\n",
       "        text-align: right;\n",
       "    }\n",
       "</style>\n",
       "<table border=\"1\" class=\"dataframe\">\n",
       "  <thead>\n",
       "    <tr style=\"text-align: right;\">\n",
       "      <th></th>\n",
       "      <th>fold</th>\n",
       "      <th>base_auc</th>\n",
       "      <th>base_time</th>\n",
       "      <th>mr_auc</th>\n",
       "      <th>mr_time</th>\n",
       "      <th>both_auc</th>\n",
       "      <th>both_time</th>\n",
       "    </tr>\n",
       "  </thead>\n",
       "  <tbody>\n",
       "    <tr>\n",
       "      <th>0</th>\n",
       "      <td>0.0</td>\n",
       "      <td>0.6</td>\n",
       "      <td>4.0</td>\n",
       "      <td>NaN</td>\n",
       "      <td>NaN</td>\n",
       "      <td>NaN</td>\n",
       "      <td>NaN</td>\n",
       "    </tr>\n",
       "    <tr>\n",
       "      <th>1</th>\n",
       "      <td>0.0</td>\n",
       "      <td>0.6</td>\n",
       "      <td>4.0</td>\n",
       "      <td>NaN</td>\n",
       "      <td>NaN</td>\n",
       "      <td>NaN</td>\n",
       "      <td>NaN</td>\n",
       "    </tr>\n",
       "    <tr>\n",
       "      <th>2</th>\n",
       "      <td>0.0</td>\n",
       "      <td>0.6</td>\n",
       "      <td>4.0</td>\n",
       "      <td>NaN</td>\n",
       "      <td>NaN</td>\n",
       "      <td>NaN</td>\n",
       "      <td>NaN</td>\n",
       "    </tr>\n",
       "    <tr>\n",
       "      <th>3</th>\n",
       "      <td>0.0</td>\n",
       "      <td>0.6</td>\n",
       "      <td>4.0</td>\n",
       "      <td>NaN</td>\n",
       "      <td>NaN</td>\n",
       "      <td>NaN</td>\n",
       "      <td>NaN</td>\n",
       "    </tr>\n",
       "  </tbody>\n",
       "</table>\n",
       "</div>"
      ],
      "text/plain": [
       "   fold  base_auc  base_time  mr_auc  mr_time  both_auc  both_time\n",
       "0   0.0       0.6        4.0     NaN      NaN       NaN        NaN\n",
       "1   0.0       0.6        4.0     NaN      NaN       NaN        NaN\n",
       "2   0.0       0.6        4.0     NaN      NaN       NaN        NaN\n",
       "3   0.0       0.6        4.0     NaN      NaN       NaN        NaN"
      ]
     },
     "execution_count": 25,
     "metadata": {},
     "output_type": "execute_result"
    }
   ],
   "source": [
    "metrics = metrics.append({\n",
    "    \"fold\": 0,\n",
    "    \"base_auc\": 0.6,\n",
    "    \"base_time\": 4\n",
    "}, ignore_index=True)\n",
    "metrics"
   ]
  },
  {
   "cell_type": "code",
   "execution_count": 28,
   "id": "external-equipment",
   "metadata": {},
   "outputs": [
    {
     "data": {
      "text/plain": [
       "0.6"
      ]
     },
     "execution_count": 28,
     "metadata": {},
     "output_type": "execute_result"
    }
   ],
   "source": [
    "l[\"base_auc\"].mean()"
   ]
  },
  {
   "cell_type": "code",
   "execution_count": 31,
   "id": "indirect-cabin",
   "metadata": {},
   "outputs": [
    {
     "data": {
      "text/plain": [
       "0.0"
      ]
     },
     "execution_count": 31,
     "metadata": {},
     "output_type": "execute_result"
    }
   ],
   "source": [
    "l[\"base_auc\"].std()"
   ]
  },
  {
   "cell_type": "code",
   "execution_count": 30,
   "id": "bizarre-pittsburgh",
   "metadata": {},
   "outputs": [
    {
     "data": {
      "text/plain": [
       "fold         0.0\n",
       "base_auc     0.0\n",
       "base_time    0.0\n",
       "mr_auc       NaN\n",
       "mr_time      NaN\n",
       "both_auc     NaN\n",
       "both_time    NaN\n",
       "dtype: float64"
      ]
     },
     "execution_count": 30,
     "metadata": {},
     "output_type": "execute_result"
    }
   ],
   "source": [
    "l = metrics.std()\n",
    "l"
   ]
  },
  {
   "cell_type": "code",
   "execution_count": 27,
   "id": "unlimited-sharp",
   "metadata": {},
   "outputs": [
    {
     "name": "stdout",
     "output_type": "stream",
     "text": [
      "fold         0.0\n",
      "base_auc     0.6\n",
      "base_time    4.0\n",
      "mr_auc       NaN\n",
      "mr_time      NaN\n",
      "both_auc     NaN\n",
      "both_time    NaN\n",
      "dtype: float64\n"
     ]
    }
   ],
   "source": [
    "print(l)"
   ]
  },
  {
   "cell_type": "code",
   "execution_count": 32,
   "id": "worldwide-figure",
   "metadata": {},
   "outputs": [
    {
     "data": {
      "text/html": [
       "<div>\n",
       "<style scoped>\n",
       "    .dataframe tbody tr th:only-of-type {\n",
       "        vertical-align: middle;\n",
       "    }\n",
       "\n",
       "    .dataframe tbody tr th {\n",
       "        vertical-align: top;\n",
       "    }\n",
       "\n",
       "    .dataframe thead th {\n",
       "        text-align: right;\n",
       "    }\n",
       "</style>\n",
       "<table border=\"1\" class=\"dataframe\">\n",
       "  <thead>\n",
       "    <tr style=\"text-align: right;\">\n",
       "      <th></th>\n",
       "      <th>fold</th>\n",
       "      <th>base_auc</th>\n",
       "      <th>base_time</th>\n",
       "      <th>mr_auc</th>\n",
       "      <th>mr_time</th>\n",
       "      <th>both_auc</th>\n",
       "      <th>both_time</th>\n",
       "    </tr>\n",
       "  </thead>\n",
       "  <tbody>\n",
       "    <tr>\n",
       "      <th>0</th>\n",
       "      <td>0.0</td>\n",
       "      <td>0.6</td>\n",
       "      <td>4.0</td>\n",
       "      <td>NaN</td>\n",
       "      <td>NaN</td>\n",
       "      <td>NaN</td>\n",
       "      <td>NaN</td>\n",
       "    </tr>\n",
       "    <tr>\n",
       "      <th>1</th>\n",
       "      <td>0.0</td>\n",
       "      <td>0.6</td>\n",
       "      <td>4.0</td>\n",
       "      <td>NaN</td>\n",
       "      <td>NaN</td>\n",
       "      <td>NaN</td>\n",
       "      <td>NaN</td>\n",
       "    </tr>\n",
       "    <tr>\n",
       "      <th>2</th>\n",
       "      <td>0.0</td>\n",
       "      <td>0.6</td>\n",
       "      <td>4.0</td>\n",
       "      <td>NaN</td>\n",
       "      <td>NaN</td>\n",
       "      <td>NaN</td>\n",
       "      <td>NaN</td>\n",
       "    </tr>\n",
       "    <tr>\n",
       "      <th>3</th>\n",
       "      <td>0.0</td>\n",
       "      <td>0.6</td>\n",
       "      <td>4.0</td>\n",
       "      <td>NaN</td>\n",
       "      <td>NaN</td>\n",
       "      <td>NaN</td>\n",
       "      <td>NaN</td>\n",
       "    </tr>\n",
       "    <tr>\n",
       "      <th>4</th>\n",
       "      <td>0.0</td>\n",
       "      <td>0.6</td>\n",
       "      <td>4.0</td>\n",
       "      <td>NaN</td>\n",
       "      <td>NaN</td>\n",
       "      <td>NaN</td>\n",
       "      <td>NaN</td>\n",
       "    </tr>\n",
       "  </tbody>\n",
       "</table>\n",
       "</div>"
      ],
      "text/plain": [
       "   fold base_auc  base_time  mr_auc  mr_time  both_auc  both_time\n",
       "0   0.0      0.6        4.0     NaN      NaN       NaN        NaN\n",
       "1   0.0      0.6        4.0     NaN      NaN       NaN        NaN\n",
       "2   0.0      0.6        4.0     NaN      NaN       NaN        NaN\n",
       "3   0.0      0.6        4.0     NaN      NaN       NaN        NaN\n",
       "4   0.0      0.6        4.0     NaN      NaN       NaN        NaN"
      ]
     },
     "execution_count": 32,
     "metadata": {},
     "output_type": "execute_result"
    }
   ],
   "source": [
    "metrics = metrics.append({\n",
    "    \"fold\": 0,\n",
    "    \"base_auc\": \"0.6\",\n",
    "    \"base_time\": 4\n",
    "}, ignore_index=True)\n",
    "metrics"
   ]
  },
  {
   "cell_type": "code",
   "execution_count": 33,
   "id": "paperback-short",
   "metadata": {},
   "outputs": [
    {
     "name": "stdout",
     "output_type": "stream",
     "text": [
      "   fold base_auc  base_time  mr_auc  mr_time  both_auc  both_time\n",
      "0   0.0      0.6        4.0     NaN      NaN       NaN        NaN\n",
      "1   0.0      0.6        4.0     NaN      NaN       NaN        NaN\n",
      "2   0.0      0.6        4.0     NaN      NaN       NaN        NaN\n",
      "3   0.0      0.6        4.0     NaN      NaN       NaN        NaN\n",
      "4   0.0      0.6        4.0     NaN      NaN       NaN        NaN\n"
     ]
    }
   ],
   "source": [
    "print(metrics)"
   ]
  },
  {
   "cell_type": "code",
   "execution_count": null,
   "id": "photographic-strength",
   "metadata": {},
   "outputs": [],
   "source": []
  }
 ],
 "metadata": {
  "kernelspec": {
   "display_name": "Python 3",
   "language": "python",
   "name": "python3"
  },
  "language_info": {
   "codemirror_mode": {
    "name": "ipython",
    "version": 3
   },
   "file_extension": ".py",
   "mimetype": "text/x-python",
   "name": "python",
   "nbconvert_exporter": "python",
   "pygments_lexer": "ipython3",
   "version": "3.8.8"
  },
  "toc": {
   "base_numbering": 1,
   "nav_menu": {},
   "number_sections": true,
   "sideBar": true,
   "skip_h1_title": false,
   "title_cell": "Table of Contents",
   "title_sidebar": "Contents",
   "toc_cell": false,
   "toc_position": {},
   "toc_section_display": true,
   "toc_window_display": false
  }
 },
 "nbformat": 4,
 "nbformat_minor": 5
}
